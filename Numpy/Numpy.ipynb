{
  "nbformat": 4,
  "nbformat_minor": 0,
  "metadata": {
    "colab": {
      "name": "Numpy.ipynb",
      "provenance": [],
      "collapsed_sections": []
    },
    "kernelspec": {
      "name": "python3",
      "display_name": "Python 3"
    },
    "language_info": {
      "name": "python"
    }
  },
  "cells": [
    {
      "cell_type": "code",
      "metadata": {
        "id": "ANAxlNaKFV0Q"
      },
      "source": [
        "import numpy as np"
      ],
      "execution_count": null,
      "outputs": []
    },
    {
      "cell_type": "code",
      "metadata": {
        "colab": {
          "base_uri": "https://localhost:8080/"
        },
        "id": "liXv-dvlFu1H",
        "outputId": "4696e6ec-184c-47e9-978a-a3bf0baf2c85"
      },
      "source": [
        "n = np.array([10, 20, 30, 40]) #single dimensional array\n",
        "n"
      ],
      "execution_count": null,
      "outputs": [
        {
          "output_type": "execute_result",
          "data": {
            "text/plain": [
              "array([10, 20, 30, 40])"
            ]
          },
          "metadata": {
            "tags": []
          },
          "execution_count": 3
        }
      ]
    },
    {
      "cell_type": "code",
      "metadata": {
        "colab": {
          "base_uri": "https://localhost:8080/"
        },
        "id": "wir46I1JF38S",
        "outputId": "3cf63232-6123-4ef4-a8f8-415842d3e0f3"
      },
      "source": [
        "n = np.array([[1, 2, 3, 4],[5, 6, 7, 8]]) #multidimensional array\n",
        "n"
      ],
      "execution_count": null,
      "outputs": [
        {
          "output_type": "execute_result",
          "data": {
            "text/plain": [
              "array([[1, 2, 3, 4],\n",
              "       [5, 6, 7, 8]])"
            ]
          },
          "metadata": {
            "tags": []
          },
          "execution_count": 9
        }
      ]
    },
    {
      "cell_type": "code",
      "metadata": {
        "colab": {
          "base_uri": "https://localhost:8080/"
        },
        "id": "-3d9u0EQGFPJ",
        "outputId": "a32a999f-6789-49fa-d25d-2f19fcf71c07"
      },
      "source": [
        "n = np.zeros((5,3)) #zeros array (row, col)\n",
        "n"
      ],
      "execution_count": null,
      "outputs": [
        {
          "output_type": "execute_result",
          "data": {
            "text/plain": [
              "array([[0., 0., 0.],\n",
              "       [0., 0., 0.],\n",
              "       [0., 0., 0.],\n",
              "       [0., 0., 0.],\n",
              "       [0., 0., 0.]])"
            ]
          },
          "metadata": {
            "tags": []
          },
          "execution_count": 11
        }
      ]
    },
    {
      "cell_type": "code",
      "metadata": {
        "colab": {
          "base_uri": "https://localhost:8080/"
        },
        "id": "DytD6QdPGt0b",
        "outputId": "7a3e6fef-82c0-4792-8a4a-038413c9615a"
      },
      "source": [
        "n = np.full((5,5), 10) #with specific number (row, col), number\n",
        "n"
      ],
      "execution_count": null,
      "outputs": [
        {
          "output_type": "execute_result",
          "data": {
            "text/plain": [
              "array([[10, 10, 10, 10, 10],\n",
              "       [10, 10, 10, 10, 10],\n",
              "       [10, 10, 10, 10, 10],\n",
              "       [10, 10, 10, 10, 10],\n",
              "       [10, 10, 10, 10, 10]])"
            ]
          },
          "metadata": {
            "tags": []
          },
          "execution_count": 13
        }
      ]
    },
    {
      "cell_type": "code",
      "metadata": {
        "colab": {
          "base_uri": "https://localhost:8080/"
        },
        "id": "cP0n5zZLHCIg",
        "outputId": "71ea4c52-eba5-4929-f3f6-c062175bab74"
      },
      "source": [
        "n = np.arange(10,25) #number range in array (start, end)\n",
        "n"
      ],
      "execution_count": null,
      "outputs": [
        {
          "output_type": "execute_result",
          "data": {
            "text/plain": [
              "array([10, 11, 12, 13, 14, 15, 16, 17, 18, 19, 20, 21, 22, 23, 24])"
            ]
          },
          "metadata": {
            "tags": []
          },
          "execution_count": 15
        }
      ]
    },
    {
      "cell_type": "code",
      "metadata": {
        "colab": {
          "base_uri": "https://localhost:8080/"
        },
        "id": "Ntvmv_AfHZXY",
        "outputId": "645a9372-e3ee-49e1-8747-cdb4db0cd621"
      },
      "source": [
        "n = np.arange(10,100,5) #number range in array (start, end, gap)\n",
        "n"
      ],
      "execution_count": null,
      "outputs": [
        {
          "output_type": "execute_result",
          "data": {
            "text/plain": [
              "array([10, 15, 20, 25, 30, 35, 40, 45, 50, 55, 60, 65, 70, 75, 80, 85, 90,\n",
              "       95])"
            ]
          },
          "metadata": {
            "tags": []
          },
          "execution_count": 16
        }
      ]
    },
    {
      "cell_type": "code",
      "metadata": {
        "colab": {
          "base_uri": "https://localhost:8080/"
        },
        "id": "L1K6g7zSHoNw",
        "outputId": "5e8a43a3-9232-4213-d64a-d2121317c836"
      },
      "source": [
        "n = np.random.randint(10, 100, 5) # number randomly in array (start, end, number)\n",
        "n"
      ],
      "execution_count": null,
      "outputs": [
        {
          "output_type": "execute_result",
          "data": {
            "text/plain": [
              "array([90, 97, 72, 58, 51])"
            ]
          },
          "metadata": {
            "tags": []
          },
          "execution_count": 20
        }
      ]
    },
    {
      "cell_type": "code",
      "metadata": {
        "colab": {
          "base_uri": "https://localhost:8080/"
        },
        "id": "sF8nUOHSH-0I",
        "outputId": "c7a18e62-4ed9-4c77-d78e-8bf0bc692a06"
      },
      "source": [
        "n = np.zeros((5,10))\n",
        "n.shape #old shape\n",
        "n.shape = (10,5) #change shape\n",
        "n.shape #new shape"
      ],
      "execution_count": null,
      "outputs": [
        {
          "output_type": "execute_result",
          "data": {
            "text/plain": [
              "(10, 5)"
            ]
          },
          "metadata": {
            "tags": []
          },
          "execution_count": 26
        }
      ]
    },
    {
      "cell_type": "code",
      "metadata": {
        "colab": {
          "base_uri": "https://localhost:8080/"
        },
        "id": "FnjfwbgdIeqr",
        "outputId": "8d01b29e-af6e-419f-ff52-21531a9250aa"
      },
      "source": [
        "# join 2 numpy array (vstack())\n",
        "n1 = np.array([1,2,3,4])\n",
        "n2 = np.array([1,2,3,4])\n",
        "np.vstack((n1,n2))\n"
      ],
      "execution_count": null,
      "outputs": [
        {
          "output_type": "execute_result",
          "data": {
            "text/plain": [
              "array([[1, 2, 3, 4],\n",
              "       [1, 2, 3, 4]])"
            ]
          },
          "metadata": {
            "tags": []
          },
          "execution_count": 28
        }
      ]
    },
    {
      "cell_type": "code",
      "metadata": {
        "colab": {
          "base_uri": "https://localhost:8080/"
        },
        "id": "3x4yesGJJMmi",
        "outputId": "d70fdc43-69c4-49ea-b231-63e64e6d7aa7"
      },
      "source": [
        "# join 2 numpy array (hstack())\n",
        "n1 = np.array([1,2,3,4])\n",
        "n2 = np.array([1,2,3,4])\n",
        "np.hstack((n1,n2))"
      ],
      "execution_count": null,
      "outputs": [
        {
          "output_type": "execute_result",
          "data": {
            "text/plain": [
              "array([1, 2, 3, 4, 1, 2, 3, 4])"
            ]
          },
          "metadata": {
            "tags": []
          },
          "execution_count": 29
        }
      ]
    },
    {
      "cell_type": "code",
      "metadata": {
        "colab": {
          "base_uri": "https://localhost:8080/"
        },
        "id": "aeH5TDtDJS_Q",
        "outputId": "a9b12ef0-69d4-417d-89ca-219b651ad2a4"
      },
      "source": [
        "# join 2 numpy array (column_stack())\n",
        "n1 = np.array([1,2,3,4])\n",
        "n2 = np.array([1,2,3,4])\n",
        "np.column_stack((n1,n2))"
      ],
      "execution_count": null,
      "outputs": [
        {
          "output_type": "execute_result",
          "data": {
            "text/plain": [
              "array([[1, 1],\n",
              "       [2, 2],\n",
              "       [3, 3],\n",
              "       [4, 4]])"
            ]
          },
          "metadata": {
            "tags": []
          },
          "execution_count": 30
        }
      ]
    },
    {
      "cell_type": "code",
      "metadata": {
        "colab": {
          "base_uri": "https://localhost:8080/"
        },
        "id": "VXGz4eqiJadx",
        "outputId": "af5c0b05-8ee5-428d-894b-a788c6a66ca9"
      },
      "source": [
        "# intersection & Difference \n",
        "n1 = np.array([1,3,4,8,2,7])\n",
        "n2 = np.array([8,1,5,3,6])\n",
        "np.intersect1d(n1,n2) #return the common elements between two arrays"
      ],
      "execution_count": null,
      "outputs": [
        {
          "output_type": "execute_result",
          "data": {
            "text/plain": [
              "array([1, 3, 8])"
            ]
          },
          "metadata": {
            "tags": []
          },
          "execution_count": 31
        }
      ]
    },
    {
      "cell_type": "code",
      "metadata": {
        "colab": {
          "base_uri": "https://localhost:8080/"
        },
        "id": "_w67hxDAKdbV",
        "outputId": "23953977-4000-44e6-c39c-d448a1e0de8f"
      },
      "source": [
        "n1 = np.array([1,3,4,8,2,7])\n",
        "n2 = np.array([8,1,5,3,6])\n",
        "np.setdiff1d(n1,n2) # return the unique elements in array n1\n",
        "\n",
        "n1 = np.array([1,3,4,8,2,7])\n",
        "n2 = np.array([8,1,5,3,6])\n",
        "np.setdiff1d(n2,n1) # return the unique elements in array n2\n"
      ],
      "execution_count": null,
      "outputs": [
        {
          "output_type": "execute_result",
          "data": {
            "text/plain": [
              "array([5, 6])"
            ]
          },
          "metadata": {
            "tags": []
          },
          "execution_count": 35
        }
      ]
    },
    {
      "cell_type": "code",
      "metadata": {
        "colab": {
          "base_uri": "https://localhost:8080/"
        },
        "id": "j1xeou7PKrbg",
        "outputId": "a8288871-d6c8-4af9-881f-c70b7d38a44b"
      },
      "source": [
        "# addition/sum of two arrays\n",
        "n1 = np.array([1,3,4,8,2])\n",
        "n2 = np.array([8,1,5,3,6])\n",
        "np.sum([n1,n2]) # sum of two arrays"
      ],
      "execution_count": null,
      "outputs": [
        {
          "output_type": "execute_result",
          "data": {
            "text/plain": [
              "41"
            ]
          },
          "metadata": {
            "tags": []
          },
          "execution_count": 39
        }
      ]
    },
    {
      "cell_type": "code",
      "metadata": {
        "colab": {
          "base_uri": "https://localhost:8080/"
        },
        "id": "MvAx_kvzLV6h",
        "outputId": "ffa33c87-fa06-4395-cedc-04ecf2cf7288"
      },
      "source": [
        "n1 = np.array([1,3,4,8,2])\n",
        "n2 = np.array([8,1,5,3,6])\n",
        "np.sum([n1,n2], axis=0) # sum of each elements between two arrays (axis=0) with respect to column "
      ],
      "execution_count": null,
      "outputs": [
        {
          "output_type": "execute_result",
          "data": {
            "text/plain": [
              "array([ 9,  4,  9, 11,  8])"
            ]
          },
          "metadata": {
            "tags": []
          },
          "execution_count": 40
        }
      ]
    },
    {
      "cell_type": "code",
      "metadata": {
        "colab": {
          "base_uri": "https://localhost:8080/"
        },
        "id": "CQNZzz0GLdNo",
        "outputId": "fb745d66-132c-4575-e73c-c003f3adfa95"
      },
      "source": [
        "n1 = np.array([1,3,4,8,2])\n",
        "n2 = np.array([8,1,5,3,6])\n",
        "np.sum([n1,n2], axis=1) # sum of two array individually (axis=1) with respect to row "
      ],
      "execution_count": null,
      "outputs": [
        {
          "output_type": "execute_result",
          "data": {
            "text/plain": [
              "array([18, 23])"
            ]
          },
          "metadata": {
            "tags": []
          },
          "execution_count": 42
        }
      ]
    },
    {
      "cell_type": "code",
      "metadata": {
        "colab": {
          "base_uri": "https://localhost:8080/"
        },
        "id": "-VFM3K7DLh1A",
        "outputId": "f596ca9e-3a86-47b2-d2d9-517db901aa83"
      },
      "source": [
        "# basic operation with numpy array\n",
        "n1 = np.array([1,3,4,8,2])\n",
        "n1 = n1 + 1 #basic addition same as for (-, *, /)\n",
        "n1"
      ],
      "execution_count": null,
      "outputs": [
        {
          "output_type": "execute_result",
          "data": {
            "text/plain": [
              "array([2, 4, 5, 9, 3])"
            ]
          },
          "metadata": {
            "tags": []
          },
          "execution_count": 53
        }
      ]
    },
    {
      "cell_type": "code",
      "metadata": {
        "colab": {
          "base_uri": "https://localhost:8080/"
        },
        "id": "uKS35OgJMRB4",
        "outputId": "6ffe62e2-1bd2-4ec0-ac02-ce7269c20704"
      },
      "source": [
        "# mean, median, std in numpy array\n",
        "n1 = np.array([1,3,4,8,2])\n",
        "np.mean(n1) #mean"
      ],
      "execution_count": null,
      "outputs": [
        {
          "output_type": "execute_result",
          "data": {
            "text/plain": [
              "3.6"
            ]
          },
          "metadata": {
            "tags": []
          },
          "execution_count": 50
        }
      ]
    },
    {
      "cell_type": "code",
      "metadata": {
        "colab": {
          "base_uri": "https://localhost:8080/"
        },
        "id": "vmBaNZB2MjSd",
        "outputId": "9fba24f8-a455-458c-96ea-42ec708ef3b0"
      },
      "source": [
        "n1 = np.array([1,3,4,8,2])\n",
        "np.median(n1) #median"
      ],
      "execution_count": null,
      "outputs": [
        {
          "output_type": "execute_result",
          "data": {
            "text/plain": [
              "3.0"
            ]
          },
          "metadata": {
            "tags": []
          },
          "execution_count": 51
        }
      ]
    },
    {
      "cell_type": "code",
      "metadata": {
        "colab": {
          "base_uri": "https://localhost:8080/"
        },
        "id": "dxH8mhEKMlzw",
        "outputId": "32df0238-c1e2-4de9-bee4-90754ac12775"
      },
      "source": [
        "n1 = np.array([1,3,4,8,2])\n",
        "np.std(n1) #standard deviation"
      ],
      "execution_count": null,
      "outputs": [
        {
          "output_type": "execute_result",
          "data": {
            "text/plain": [
              "2.4166091947189146"
            ]
          },
          "metadata": {
            "tags": []
          },
          "execution_count": 52
        }
      ]
    },
    {
      "cell_type": "code",
      "metadata": {
        "id": "5plXNhf6Mrz6"
      },
      "source": [
        "# save and load numpy array\n",
        "n1 = np.array([1,3,4,8,2])\n",
        "np.save('my_save_n1', n1)"
      ],
      "execution_count": null,
      "outputs": []
    },
    {
      "cell_type": "code",
      "metadata": {
        "colab": {
          "base_uri": "https://localhost:8080/"
        },
        "id": "pufYzmvvNVBq",
        "outputId": "39e4c977-e764-4508-ea39-cfbec80b7dd3"
      },
      "source": [
        "np.load('my_save_n1.npy') #.npy means numpy array"
      ],
      "execution_count": null,
      "outputs": [
        {
          "output_type": "execute_result",
          "data": {
            "text/plain": [
              "array([1, 3, 4, 8, 2])"
            ]
          },
          "metadata": {
            "tags": []
          },
          "execution_count": 57
        }
      ]
    },
    {
      "cell_type": "code",
      "metadata": {
        "id": "h4GayWJ3NYh_"
      },
      "source": [
        ""
      ],
      "execution_count": null,
      "outputs": []
    }
  ]
}